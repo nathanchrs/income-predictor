{
 "cells": [
  {
   "cell_type": "markdown",
   "metadata": {},
   "source": [
    "# Income Predictor Experiment - Tugas Besar 2A IF3170 AI\n",
    "\n",
    "**Kelompok 23 - Saturnus**\n",
    "- 13515001 (K-01) - Jonathan Christopher\n",
    "- 13515008 (K-02) - Kanisius Kenneth Halim\n",
    "- 13515052 (K-01) - Kevin Jonathan\n",
    "- 13515064 (K-01) - Tasya\n",
    "- 13515065 (K-02) - Felix Limanta"
   ]
  },
  {
   "cell_type": "markdown",
   "metadata": {},
   "source": [
    "## Import data"
   ]
  },
  {
   "cell_type": "code",
   "execution_count": 1,
   "metadata": {
    "collapsed": true
   },
   "outputs": [],
   "source": [
    "import pandas\n",
    "import numpy as np\n",
    "\n",
    "training_data = np.array(pandas.read_csv('./data/CensusIncome.data.txt', header=None))\n",
    "test_data = np.array(pandas.read_csv('./data/CensusIncome.test.txt', header=None))\n",
    "\n",
    "feature_names = ['age', 'workclass', 'fnlwgt', 'education', 'education-num', 'marital-status', 'occupation', 'relationship', 'race', 'sex', 'capital-gain', 'capital-loss', 'hours-per-week', 'native-country']\n",
    "discrete_feature_indices = [1, 3, 5, 6, 7, 8, 9, 13]\n",
    "discrete_feature_domains = {\n",
    "    'workclass': ['Private',  'Self-emp-not-inc',  'Self-emp-inc',  'Federal-gov',  'Local-gov',  'State-gov',  'Without-pay',  'Never-worked'],\n",
    "    'education': ['Bachelors',  'Some-college',  '11th',  'HS-grad',  'Prof-school',  'Assoc-acdm',  'Assoc-voc',  '9th',  '7th-8th',  '12th',  'Masters',  '1st-4th',  '10th',  'Doctorate',  '5th-6th',  'Preschool'],\n",
    "    'marital-status': ['Married-civ-spouse',  'Divorced',  'Never-married',  'Separated',  'Widowed',  'Married-spouse-absent',  'Married-AF-spouse'],\n",
    "    'occupation': ['Tech-support',  'Craft-repair',  'Other-service',  'Sales',  'Exec-managerial',  'Prof-specialty',  'Handlers-cleaners',  'Machine-op-inspct',  'Adm-clerical',  'Farming-fishing',  'Transport-moving',  'Priv-house-serv',  'Protective-serv',  'Armed-Forces'],\n",
    "    'relationship': ['Wife',  'Own-child',  'Husband',  'Not-in-family',  'Other-relative',  'Unmarried'],\n",
    "    'race': ['White',  'Asian-Pac-Islander',  'Amer-Indian-Eskimo',  'Other',  'Black'],\n",
    "    'sex': ['Female',  'Male'],\n",
    "    'native-country': ['United-States',  'Cambodia',  'England',  'Puerto-Rico',  'Canada',  'Germany',  'Outlying-US(Guam-USVI-etc)',  'India',  'Japan',  'Greece',  'South',  'China',  'Cuba',  'Iran',  'Honduras',  'Philippines',  'Italy',  'Poland',  'Jamaica',  'Vietnam',  'Mexico',  'Portugal',  'Ireland',  'France',  'Dominican-Republic',  'Laos',  'Ecuador',  'Taiwan',  'Haiti',  'Columbia',  'Hungary',  'Guatemala',  'Nicaragua',  'Scotland',  'Thailand',  'Yugoslavia',  'El-Salvador',  'Trinadad&Tobago',  'Peru',  'Hong',  'Holand-Netherlands']\n",
    "}"
   ]
  },
  {
   "cell_type": "markdown",
   "metadata": {},
   "source": [
    "## Preprocess data"
   ]
  },
  {
   "cell_type": "markdown",
   "metadata": {},
   "source": [
    "### Trim whitespace from data"
   ]
  },
  {
   "cell_type": "code",
   "execution_count": 2,
   "metadata": {
    "collapsed": true
   },
   "outputs": [],
   "source": [
    "training_data = [[item.strip() if isinstance(item, str) else item for item in row] for row in training_data]\n",
    "test_data = [[item.strip() if isinstance(item, str) else item for item in row] for row in test_data]"
   ]
  },
  {
   "cell_type": "markdown",
   "metadata": {},
   "source": [
    "### Separate feature and target labels"
   ]
  },
  {
   "cell_type": "code",
   "execution_count": 3,
   "metadata": {
    "collapsed": true
   },
   "outputs": [],
   "source": [
    "training_features = np.array([row[:-1] for row in training_data])\n",
    "training_targets = np.array([row[-1] for row in training_data])\n",
    "\n",
    "test_features = np.array([row[:-1] for row in test_data])\n",
    "test_targets = np.array([row[-1] for row in test_data])"
   ]
  },
  {
   "cell_type": "markdown",
   "metadata": {},
   "source": [
    "### Replace missing feature values with mode"
   ]
  },
  {
   "cell_type": "code",
   "execution_count": 4,
   "metadata": {
    "collapsed": true
   },
   "outputs": [],
   "source": [
    "from collections import Counter\n",
    "\n",
    "training_features_modes = [Counter(filter(lambda x : x != '?', column)).most_common(1)[0][0] for column in training_features.transpose()]\n",
    "for r in range(0, len(training_features)):\n",
    "    for c in range(0, len(training_features[r])):\n",
    "        if training_features[r][c] == '?':\n",
    "            training_features[r][c] = training_features_modes[c]\n",
    "            \n",
    "test_features_modes = [Counter(filter(lambda x : x != '?', column)).most_common(1)[0][0] for column in test_features.transpose()]\n",
    "for r in range(0, len(test_features)):\n",
    "    for c in range(0, len(test_features[r])):\n",
    "        if test_features[r][c] == '?':\n",
    "            test_features[r][c] = test_features_modes[c]"
   ]
  },
  {
   "cell_type": "markdown",
   "metadata": {},
   "source": [
    "### Convert categorical feature names to integer"
   ]
  },
  {
   "cell_type": "code",
   "execution_count": 5,
   "metadata": {},
   "outputs": [],
   "source": [
    "for r in range(0, len(training_features)):\n",
    "    for c in range(0, len(training_features[r])):\n",
    "        if c in discrete_feature_indices:\n",
    "            domain = discrete_feature_domains[feature_names[c]]\n",
    "            training_features[r][c] = domain.index(training_features[r][c])\n",
    "            \n",
    "for r in range(0, len(test_features)):\n",
    "    for c in range(0, len(test_features[r])):\n",
    "        if c in discrete_feature_indices:\n",
    "            domain = discrete_feature_domains[feature_names[c]]\n",
    "            test_features[r][c] = domain.index(test_features[r][c])"
   ]
  },
  {
   "cell_type": "markdown",
   "metadata": {},
   "source": [
    "### Encode categorical features using one hot encoding"
   ]
  },
  {
   "cell_type": "code",
   "execution_count": 6,
   "metadata": {},
   "outputs": [],
   "source": [
    "from sklearn.preprocessing import OneHotEncoder\n",
    "\n",
    "oneHotEncoderTraining = OneHotEncoder(categorical_features=discrete_feature_indices)\n",
    "oneHotEncoderTraining.fit(training_features)\n",
    "training_features = oneHotEncoderTraining.transform(training_features).toarray().astype(int)\n",
    "\n",
    "oneHotEncoderTest = OneHotEncoder(categorical_features=discrete_feature_indices)\n",
    "oneHotEncoderTest.fit(test_features)\n",
    "test_features = oneHotEncoderTest.transform(test_features).toarray().astype(int)"
   ]
  },
  {
   "cell_type": "markdown",
   "metadata": {},
   "source": [
    "### Scale continuous feature values"
   ]
  },
  {
   "cell_type": "code",
   "execution_count": 7,
   "metadata": {},
   "outputs": [
    {
     "name": "stdout",
     "output_type": "stream",
     "text": [
      "[ 0.          0.          0.          0.          0.          1.          0.\n",
      "  0.          1.          0.          0.          0.          0.          0.\n",
      "  0.          0.          0.          0.          0.          0.          0.\n",
      "  0.          0.          0.          0.          0.          1.          0.\n",
      "  0.          0.          0.          0.          0.          0.          0.\n",
      "  0.          0.          0.          0.          1.          0.          0.\n",
      "  0.          0.          0.          0.          0.          0.          1.\n",
      "  0.          0.          1.          0.          0.          0.          0.\n",
      "  0.          1.          1.          0.          0.          0.          0.\n",
      "  0.          0.          0.          0.          0.          0.          0.\n",
      "  0.          0.          0.          0.          0.          0.          0.\n",
      "  0.          0.          0.          0.          0.          0.          0.\n",
      "  0.          0.          0.          0.          0.          0.          0.\n",
      "  0.          0.          0.          0.          0.          0.          0.\n",
      "  0.          0.03067056 -1.06361075  1.13473876  0.1484529  -0.21665953\n",
      " -0.03542945]\n"
     ]
    }
   ],
   "source": [
    "from sklearn import preprocessing\n",
    "\n",
    "training_features = training_features.astype(np.float64)\n",
    "training_features = np.hsplit(training_features, [-6])\n",
    "training_features[1] = preprocessing.scale(training_features[1])\n",
    "training_features = np.concatenate(training_features, axis=1)\n",
    "\n",
    "print(training_features[0])"
   ]
  },
  {
   "cell_type": "markdown",
   "metadata": {},
   "source": [
    "## Try different classifiers"
   ]
  },
  {
   "cell_type": "markdown",
   "metadata": {},
   "source": [
    "### Random Forest"
   ]
  },
  {
   "cell_type": "code",
   "execution_count": null,
   "metadata": {},
   "outputs": [
    {
     "name": "stdout",
     "output_type": "stream",
     "text": [
      "Kinerja rata-rata: 0.847425 (+/- 0.009808)\n"
     ]
    }
   ],
   "source": [
    "from sklearn.ensemble import RandomForestClassifier\n",
    "from sklearn.model_selection import cross_val_score\n",
    "\n",
    "clf = RandomForestClassifier(random_state=123)\n",
    "scores = cross_val_score(clf, training_features, training_targets, cv=10)\n",
    "print(\"Kinerja rata-rata: %f (+/- %f)\" % (scores.mean(), scores.std() * 2))"
   ]
  },
  {
   "cell_type": "markdown",
   "metadata": {},
   "source": [
    "### K-Nearest Neighbor"
   ]
  },
  {
   "cell_type": "code",
   "execution_count": null,
   "metadata": {},
   "outputs": [],
   "source": [
    "from sklearn import neighbors\n",
    "cv_knn = neighbors.KNeighborsClassifier(n_neighbors=5)\n",
    "scores = cross_val_score(cv_knn, training_features, training_targets, cv=10)\n",
    "print(\"Kinerja rata-rata: %f (+/- %f)\" % (scores.mean(), scores.std() * 2))"
   ]
  },
  {
   "cell_type": "code",
   "execution_count": null,
   "metadata": {
    "collapsed": true
   },
   "outputs": [],
   "source": []
  }
 ],
 "metadata": {
  "kernelspec": {
   "display_name": "Python 3",
   "language": "python",
   "name": "python3"
  },
  "language_info": {
   "codemirror_mode": {
    "name": "ipython",
    "version": 3
   },
   "file_extension": ".py",
   "mimetype": "text/x-python",
   "name": "python",
   "nbconvert_exporter": "python",
   "pygments_lexer": "ipython3",
   "version": "3.6.2"
  }
 },
 "nbformat": 4,
 "nbformat_minor": 2
}
